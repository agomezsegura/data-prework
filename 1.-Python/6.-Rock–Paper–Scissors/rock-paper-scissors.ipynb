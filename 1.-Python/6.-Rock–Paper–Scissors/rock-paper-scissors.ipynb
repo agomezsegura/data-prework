{
 "cells": [
  {
   "cell_type": "markdown",
   "metadata": {},
   "source": [
    "<img src=\"https://bit.ly/2VnXWr2\" width=\"100\" align=\"left\">"
   ]
  },
  {
   "cell_type": "markdown",
   "metadata": {},
   "source": [
    "# Rock, Paper & Scissors\n",
    "\n",
    "Let's play the famous game against our computer. You can check the rules [here](https://en.wikipedia.org/wiki/Rock%E2%80%93paper%E2%80%93scissors). \n",
    "\n",
    "## Task\n",
    "Create a program that imitates the playability of the well known game of rock, paper, scissors. Follow the guidelines provided.\n",
    "\n",
    "## Tools\n",
    "1. Loop: **for/while**\n",
    "2. Functions: **input(), print()...**\n",
    "3. Conditional statements: **if, elif, else**\n",
    "4. Definition of functions. Modular programming\n",
    "5. Import modules\n",
    "\n",
    "**To solve this challenge, the use of functions is recommended.**\n",
    "\n",
    "#### 1. Import the choice function of the random module."
   ]
  },
  {
   "cell_type": "code",
   "execution_count": 1,
   "metadata": {},
   "outputs": [],
   "source": [
    "import random"
   ]
  },
  {
   "cell_type": "markdown",
   "metadata": {},
   "source": [
    "#### 2. Create a list that includes the 3 possible gesture options of the game: 'rock', 'paper' or 'scissors'. Store the list in a variable called `gestures`."
   ]
  },
  {
   "cell_type": "code",
   "execution_count": 2,
   "metadata": {},
   "outputs": [],
   "source": [
    "gestures = ['rock','paper','scissors']"
   ]
  },
  {
   "cell_type": "markdown",
   "metadata": {},
   "source": [
    "#### 3. Create a variable called `n_rounds` to store the maximum number of rounds to play in a game. \n",
    "Remember that the number of rounds must be odd: 1, 3, 5, ..."
   ]
  },
  {
   "cell_type": "code",
   "execution_count": 3,
   "metadata": {},
   "outputs": [],
   "source": [
    "n_rounds=5"
   ]
  },
  {
   "cell_type": "markdown",
   "metadata": {},
   "source": [
    "#### 4. Create a variable called `rounds_to_win` to store the number of rounds that a player must win to win the game.\n",
    "**Hint**: the value stored in `rounds_to_win` depends on the value of `n_rounds`. "
   ]
  },
  {
   "cell_type": "code",
   "execution_count": 4,
   "metadata": {},
   "outputs": [],
   "source": [
    "rounds_to_win = int(n_rounds/2)+1"
   ]
  },
  {
   "cell_type": "markdown",
   "metadata": {},
   "source": [
    "#### 5. Create two variables to store the number of rounds that the computer and the player have won. Call these variables `cpu_score` and `player_score`."
   ]
  },
  {
   "cell_type": "code",
   "execution_count": 5,
   "metadata": {},
   "outputs": [],
   "source": [
    "cpu_score = 0\n",
    "player_score = 0"
   ]
  },
  {
   "cell_type": "markdown",
   "metadata": {},
   "source": [
    "#### 6. Define a function that randomly returns one of the 3 gesture options.\n",
    "You will use this function to simulate the gesture choice of the computer. "
   ]
  },
  {
   "cell_type": "code",
   "execution_count": 6,
   "metadata": {},
   "outputs": [],
   "source": [
    "def computer_gesture():\n",
    "    return(random.choice(gestures))"
   ]
  },
  {
   "cell_type": "markdown",
   "metadata": {},
   "source": [
    "#### 7. Define a function that asks the player which is the gesture he or she wants to show: 'rock', 'paper' or 'scissors'.\n",
    "The player should only be allowed to choose one of the 3 gesture options. If the player's choice is not rock, paper or scissors, keep asking until it is."
   ]
  },
  {
   "cell_type": "code",
   "execution_count": 7,
   "metadata": {},
   "outputs": [],
   "source": [
    "def player_gesture():\n",
    "    counter = 0\n",
    "    while counter == 0:\n",
    "        x = input('Choose your gesture: ')\n",
    "        if x == 'rock':\n",
    "            counter = 1\n",
    "        elif x == 'paper':\n",
    "            counter = 1\n",
    "        elif x == 'scissors':\n",
    "            counter = 1\n",
    "        else:\n",
    "            print('Chosen gesture is not available, please choose again')\n",
    "    return(x)"
   ]
  },
  {
   "cell_type": "markdown",
   "metadata": {},
   "source": [
    "#### 8. Define a function that checks who won a round. \n",
    "The function should return 0 if there is a tie, 1 if the computer wins and 2 if the player wins."
   ]
  },
  {
   "cell_type": "code",
   "execution_count": 8,
   "metadata": {},
   "outputs": [],
   "source": [
    "def check_win(c_gesture,p_gesture):\n",
    "    result = 0\n",
    "    if c_gesture == p_gesture:\n",
    "        return(0)\n",
    "    elif (c_gesture == 'rock'and p_gesture == 'scissors') or (c_gesture == 'paper' and p_gesture == 'rock') or (c_gesture == 'scissors' and p_gesture == 'paper'):\n",
    "        return(1)\n",
    "    elif (c_gesture == 'rock'and p_gesture == 'paper') or (c_gesture == 'paper' and p_gesture == 'scissors') or (c_gesture == 'scissors' and p_gesture == 'rock'):\n",
    "        return(2)"
   ]
  },
  {
   "cell_type": "markdown",
   "metadata": {},
   "source": [
    "#### 9. Define a function that prints the choice of the computer, the choice of the player and a message that announces who won the current round. \n",
    "You should also use this function to update the variables that count the number of rounds that the computer and the player have won. The score of the winner increases by one point. If there is a tie, the score does not increase."
   ]
  },
  {
   "cell_type": "code",
   "execution_count": 9,
   "metadata": {},
   "outputs": [],
   "source": [
    "def print_choices_and_result(c_gesture,p_gesture,result):\n",
    "    print('Player has chosen: '+p_gesture)\n",
    "    print('Computer has chosen: '+c_gesture)\n",
    "    if result == 0:\n",
    "        print('Tie current round')\n",
    "    elif result == 1:\n",
    "        print('Computer wins current round')\n",
    "    elif result == 2:\n",
    "        print('Player wins current round')"
   ]
  },
  {
   "cell_type": "markdown",
   "metadata": {},
   "source": [
    "#### 10. Now it's time to code the execution of the game using the functions and variables you defined above. \n",
    "\n",
    "First, create a loop structure that repeats while no player reaches the minimum score necessary to win and the number of rounds is less than the maximum number of rounds to play in a game.  \n",
    "\n",
    "Inside the loop, use the functions and variables above to create the execution of a round: ask for the player's choice, generate the random choice of the computer, show the round results, update the scores, etc. "
   ]
  },
  {
   "cell_type": "code",
   "execution_count": 10,
   "metadata": {},
   "outputs": [
    {
     "name": "stdout",
     "output_type": "stream",
     "text": [
      "\n",
      "Round: 1\n",
      "Choose your gesture: rock\n",
      "Player has chosen: rock\n",
      "Computer has chosen: rock\n",
      "Tie current round\n",
      "\n",
      "Computer score: 0\n",
      "Player score: 0\n",
      "\n",
      "Round: 2\n",
      "Choose your gesture: rock\n",
      "Player has chosen: rock\n",
      "Computer has chosen: rock\n",
      "Tie current round\n",
      "\n",
      "Computer score: 0\n",
      "Player score: 0\n",
      "\n",
      "Round: 3\n",
      "Choose your gesture: rock\n",
      "Player has chosen: rock\n",
      "Computer has chosen: rock\n",
      "Tie current round\n",
      "\n",
      "Computer score: 0\n",
      "Player score: 0\n",
      "\n",
      "Round: 4\n",
      "Choose your gesture: rock\n",
      "Player has chosen: rock\n",
      "Computer has chosen: rock\n",
      "Tie current round\n",
      "\n",
      "Computer score: 0\n",
      "Player score: 0\n",
      "\n",
      "Round: 5\n",
      "Choose your gesture: rock\n",
      "Player has chosen: rock\n",
      "Computer has chosen: scissors\n",
      "Player wins current round\n",
      "\n",
      "Computer score: 0\n",
      "Player score: 1\n"
     ]
    }
   ],
   "source": [
    "round_number = 1\n",
    "Winner = 'Tie'\n",
    "while round_number<=n_rounds:\n",
    "    print('\\n'+'Round: '+str(round_number))\n",
    "    round_number = round_number+1\n",
    "    p_gesture = player_gesture()\n",
    "    c_gesture = computer_gesture()\n",
    "    result = check_win(c_gesture,p_gesture)\n",
    "    print_choices_and_result(c_gesture,p_gesture,result)\n",
    "    if result == 1:\n",
    "        cpu_score = cpu_score+1\n",
    "    elif result == 2:\n",
    "        player_score = player_score+1\n",
    "    print('\\n'+'Computer score: '+str(cpu_score))\n",
    "    print('Player score: '+str(player_score))\n",
    "    if cpu_score == rounds_to_win:\n",
    "        Winner = 'Computer'\n",
    "        break\n",
    "    elif player_score == rounds_to_win:\n",
    "        Winner = 'Player'\n",
    "        break"
   ]
  },
  {
   "cell_type": "markdown",
   "metadata": {},
   "source": [
    "#### 11. Print the winner of the game based on who won more rounds.\n",
    "Remember that the game might be tied. "
   ]
  },
  {
   "cell_type": "code",
   "execution_count": 11,
   "metadata": {},
   "outputs": [
    {
     "name": "stdout",
     "output_type": "stream",
     "text": [
      "Player has won the game\n"
     ]
    }
   ],
   "source": [
    "if cpu_score > player_score:\n",
    "    Winner = 'Computer'\n",
    "elif player_score > cpu_score:\n",
    "    Winner = 'Player'\n",
    "if Winner == 'Tie':\n",
    "    print('The game has been a tie')\n",
    "else:\n",
    "    print(Winner+' has won the game')"
   ]
  },
  {
   "cell_type": "markdown",
   "metadata": {},
   "source": [
    "# Bonus: Rock, Paper, Scissors, Lizard & Spock\n",
    "![](images/rpsls.jpg)\n",
    "\n",
    "In this challenge, you need to improve the previous game by adding two new options. To know more about the rules of the improved version of rock, paper, scissors, check this [link](http://www.samkass.com/theories/RPSSL.html). \n",
    "\n",
    "In addition, you will also need to improve how the game interacts with the player: the number of rounds to play, which must be an odd number, will be requested to the user until a valid number is entered. Define a new function to make that request.\n",
    "\n",
    "**Hint**: Try to reuse the code that you already coded in the previous challenge. If your code is efficient, this bonus will only consist of simple modifications to the original game."
   ]
  },
  {
   "cell_type": "code",
   "execution_count": 12,
   "metadata": {},
   "outputs": [
    {
     "name": "stdout",
     "output_type": "stream",
     "text": [
      "Enter the number of total rounds of the game (odd number): papr\n",
      "The introduced data was not a number, try again\n",
      "Enter the number of total rounds of the game (odd number): 6\n",
      "The entered number was not a odd number, try again \n",
      "\n",
      "Enter the number of total rounds of the game (odd number): 5\n",
      "\n",
      "Round: 1\n",
      "Choose your gesture: paper\n",
      "Player has chosen: paper\n",
      "Computer has chosen: spock\n",
      "Player wins current round\n",
      "\n",
      "Computer score: 0\n",
      "Player score: 1\n",
      "\n",
      "Round: 2\n",
      "Choose your gesture: spock\n",
      "Player has chosen: spock\n",
      "Computer has chosen: spock\n",
      "Tie current round\n",
      "\n",
      "Computer score: 0\n",
      "Player score: 1\n",
      "\n",
      "Round: 3\n",
      "Choose your gesture: lizard\n",
      "Player has chosen: lizard\n",
      "Computer has chosen: paper\n",
      "Player wins current round\n",
      "\n",
      "Computer score: 0\n",
      "Player score: 2\n",
      "\n",
      "Round: 4\n",
      "Choose your gesture: scissors\n",
      "Player has chosen: scissors\n",
      "Computer has chosen: rock\n",
      "Computer wins current round\n",
      "\n",
      "Computer score: 1\n",
      "Player score: 2\n",
      "\n",
      "Round: 5\n",
      "Choose your gesture: rock\n",
      "Player has chosen: rock\n",
      "Computer has chosen: lizard\n",
      "Player wins current round\n",
      "\n",
      "Computer score: 1\n",
      "Player score: 3\n",
      "Player has won the game\n"
     ]
    }
   ],
   "source": [
    "gestures = ['rock','paper','scissors','lizard','spock']\n",
    "\n",
    "def setup():\n",
    "    configuration = 0\n",
    "    while configuration<1:\n",
    "        y = input('Enter the number of total rounds of the game (odd number): ')\n",
    "        try:\n",
    "            y=int(y)\n",
    "            if int(y)%2 != 0:\n",
    "                configuration = 1\n",
    "                return(int(y))\n",
    "            else:\n",
    "                print('The entered number was not an odd number, try again \\n')\n",
    "        except ValueError:\n",
    "            print('The introduced data was not a number, try again')\n",
    "\n",
    "n_rounds = setup()\n",
    "rounds_to_win = int(n_rounds/2)+1\n",
    "cpu_score = 0\n",
    "player_score = 0\n",
    "\n",
    "def bonus_player_gesture():\n",
    "    counter = 0\n",
    "    while counter == 0:\n",
    "        x = input('Choose your gesture: ')\n",
    "        if x == 'rock':\n",
    "            counter = 1\n",
    "        elif x == 'paper':\n",
    "            counter = 1\n",
    "        elif x == 'scissors':\n",
    "            counter = 1\n",
    "        elif x == 'lizard':\n",
    "            counter = 1\n",
    "        elif x == 'spock':\n",
    "            counter = 1\n",
    "        else:\n",
    "            print('Chosen gesture is not available, please choose again')\n",
    "    return(x)\n",
    "\n",
    "def bonus_check_win(c_gesture,p_gesture):\n",
    "    result = 0\n",
    "    if c_gesture == p_gesture:\n",
    "        return(0)\n",
    "    elif (c_gesture == 'rock'and (p_gesture == 'scissors' or p_gesture == 'lizard')) or (c_gesture == 'paper' and (p_gesture == 'rock' or p_gesture =='spock')) or (c_gesture == 'scissors' and (p_gesture == 'paper' or p_gesture == 'lizard')) or (c_gesture == 'lizard' and (p_gesture == 'paper' or p_gesture == 'spock')) or (c_gesture == 'spock' and (p_gesture == 'rock' or p_gesture == 'scissors')):\n",
    "        return(1)\n",
    "    elif (p_gesture == 'rock'and (c_gesture == 'scissors' or c_gesture == 'lizard')) or (p_gesture == 'paper' and (c_gesture == 'rock' or c_gesture =='spock')) or (p_gesture == 'scissors' and (c_gesture == 'paper' or c_gesture == 'lizard')) or (p_gesture == 'lizard' and (c_gesture == 'paper' or c_gesture == 'spock')) or (p_gesture == 'spock' and (c_gesture == 'rock' or c_gesture == 'scissors')):\n",
    "        return(2)\n",
    "        \n",
    "round_number = 1\n",
    "Winner = 'Tie'\n",
    "while round_number<=n_rounds:\n",
    "    print('\\n'+'Round: '+str(round_number))\n",
    "    round_number = round_number+1\n",
    "    p_gesture = bonus_player_gesture()\n",
    "    c_gesture = computer_gesture()\n",
    "    result = bonus_check_win(c_gesture,p_gesture)\n",
    "    print_choices_and_result(c_gesture,p_gesture,result)\n",
    "    if result == 1:\n",
    "        cpu_score = cpu_score+1\n",
    "    elif result == 2:\n",
    "        player_score = player_score+1\n",
    "    print('\\n'+'Computer score: '+str(cpu_score))\n",
    "    print('Player score: '+str(player_score))\n",
    "    if cpu_score == rounds_to_win:\n",
    "        Winner = 'Computer'\n",
    "        break\n",
    "    elif player_score == rounds_to_win:\n",
    "        Winner = 'Player'\n",
    "        break\n",
    "\n",
    "if cpu_score > player_score:\n",
    "    Winner = 'Computer'\n",
    "elif player_score > cpu_score:\n",
    "    Winner = 'Player'\n",
    "if Winner == 'Tie':\n",
    "    print('The game has been a tie')\n",
    "else:\n",
    "    print(Winner+' has won the game')"
   ]
  }
 ],
 "metadata": {
  "kernelspec": {
   "display_name": "Python 3",
   "language": "python",
   "name": "python3"
  },
  "language_info": {
   "codemirror_mode": {
    "name": "ipython",
    "version": 3
   },
   "file_extension": ".py",
   "mimetype": "text/x-python",
   "name": "python",
   "nbconvert_exporter": "python",
   "pygments_lexer": "ipython3",
   "version": "3.8.3"
  }
 },
 "nbformat": 4,
 "nbformat_minor": 2
}
